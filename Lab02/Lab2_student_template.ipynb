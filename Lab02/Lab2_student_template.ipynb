{
 "cells": [
  {
   "cell_type": "code",
   "execution_count": 1,
   "metadata": {
    "id": "vHpDTGW719OW"
   },
   "outputs": [],
   "source": [
    "import numpy as np\n",
    "import cv2\n",
    "from matplotlib import pyplot as plt"
   ]
  },
  {
   "cell_type": "markdown",
   "metadata": {},
   "source": [
    "## Lab 2: Image Stitching with Homographies\n",
    "\n",
    "In this lab, we will explore image stitching and panorama creation. You will use a homography to register two images together, and implement bilinear interpolation to help accomplish this. As part of the lab, you will also explore image enhancement strategies to improve the quality of image stitching at the seam (the join between two images) relying on your knowledge of image brightness and human perception of this. Collectively, tasks 1-5 will provide a final stitched image. In task 6, you will apply the same code written in tasks 1-5 to create a panorama image using your own photos.\n",
    "\n",
    "* Task 1: Draw test points on the left image\n",
    "* Task 2: Use a homography to find the location of these points in the right image\n",
    "* Task 3: Bilinear interpolation of the right image pixels\n",
    "* Task 4: Image stitching \n",
    "* Task 5: Better blending\n",
    "* Task 6: Now try your own!\n",
    "\n",
    "### Academic integrity\n",
    "\n",
    "Every lab submission will be screened for any collusion and/or plagiarism. Breaches of academic integrity will be investigated thoroughly and may result in a zero for the assessment along with interviews with the plagiarism officers at Monash University.\n",
    "\n",
    "### Late submissions\n",
    "\n",
    "The default late submission university penalty will apply.\n",
    "\n",
    "### Lab Instructions and the Use of Generative AI\n",
    "\n",
    "You may not use any built-in opencv functions for this lab, other than those used for loading/ saving an image, extracting and matching keypoints, and\n",
    "computing homographies.\n",
    "* You may use NumPy for array handling, and vectorizing your code (reducing\n",
    "the number of for-loops) is encouraged.\n",
    "* You should use Matplotlib to display images and any intermediate results.\n",
    "* You may use generative AI.\n",
    "\n",
    "### Grading\n",
    "Each lab is worth 8%, and there are a number of sections and tasks with their own weighting. A task is only considered complete if you can demonstrate a working program and show an understanding of the underlying concepts. Note that later tasks should reuse code from earlier tasks.\n",
    "\n",
    "Masks will be provided based on the correctness of the code, the quality of your results, comments indicating you understand your work, and a discussion of tasks provided at the end of the notebook. "
   ]
  },
  {
   "cell_type": "markdown",
   "metadata": {
    "id": "AnMoUf9N19Ob"
   },
   "source": [
    "# Task 1: Draw test points on the left image\n",
    "\n",
    "Draw the following points on the left image as red crosses. Display the resulting image.\n",
    "\n",
    "{446 , 499, 1}, {383, 590, 1}, {296 , 499, 1}, {282, 511, 1}, {401 , 508, 1}\n",
    "\n",
    "Recall from lectures that these 3-element homogeneous coordinates can be transformed to 2D image pixel coordinates by dividing the first and second elements by the third (needed for later tasks)."
   ]
  },
  {
   "cell_type": "code",
   "execution_count": 2,
   "metadata": {
    "id": "z1HzqTAx19Od"
   },
   "outputs": [],
   "source": [
    "# Write your code here\n",
    "\n",
    "\n",
    "\n"
   ]
  },
  {
   "cell_type": "code",
   "execution_count": 3,
   "metadata": {
    "id": "MWPBjxqQ19Od"
   },
   "outputs": [],
   "source": [
    "# Show results here"
   ]
  },
  {
   "cell_type": "markdown",
   "metadata": {
    "id": "U4U9sIpo19Oe"
   },
   "source": [
    "# Task 2: Use Homography to find right image points\n",
    "\n",
    "\n",
    "The following homography transforms pixel coordinates between the left and right images as\n",
    "$$ x_R = H x_L $$\n",
    "\n",
    "\\begin{bmatrix}\n",
    "1.6011 & 0.0277 & -393.5701 \\\\\n",
    "0.3242 & 1.5119 & -228.8918 \\\\\n",
    "0.0009 & 0.0002 & 1.0000\n",
    "\\end{bmatrix}\n",
    "\n",
    "Apply the homography to transform the left image points in Task 1 to their corresponding locations in the right image. Draw the transformed points as red crosses on the right image. Check your result before moving on.\n"
   ]
  },
  {
   "cell_type": "code",
   "execution_count": 4,
   "metadata": {
    "id": "uOmIu--719Oe"
   },
   "outputs": [],
   "source": [
    "# Write your code here"
   ]
  },
  {
   "cell_type": "code",
   "execution_count": 5,
   "metadata": {
    "id": "RGAUbD4619Of"
   },
   "outputs": [],
   "source": [
    "# Print results here\n"
   ]
  },
  {
   "cell_type": "markdown",
   "metadata": {
    "id": "myYBoHLK19Oh"
   },
   "source": [
    "# Task 3: Bilinear interpolation of the right image\n",
    "\n",
    "The transformed coordinates can be in between pixel locations. Write a bilinear interpolation function to compute the intensity of the transformed pixel coordinate in right.jpg using intensity values from neighbouring pixel locations. Print the interpolated intensity value for each transformed point in Task 2. The first point should be around 176 whereas the last point should be around 73.\n",
    "\n",
    "HINT: The bilinear interpolation function should take the transformed pixel coordinate and the intensity values of its four neighbours as input arguments, and should output the interpolated intensity value."
   ]
  },
  {
   "cell_type": "code",
   "execution_count": 6,
   "metadata": {
    "id": "spN0EinJ19Oh"
   },
   "outputs": [],
   "source": [
    "# Write your code here"
   ]
  },
  {
   "cell_type": "code",
   "execution_count": 7,
   "metadata": {
    "id": "lPYsQyqG19Oi"
   },
   "outputs": [],
   "source": [
    "# Show results here\n",
    "\n",
    "\n",
    "\n",
    "\n"
   ]
  },
  {
   "cell_type": "markdown",
   "metadata": {
    "id": "kadqs7rT19Oi"
   },
   "source": [
    "# Task 4: Image stitching\n",
    "\n",
    "Create a 1200x800 (width x height) image and fill the left hand side of this image with the left image. This stitched image will use the left image coordinate system (xl) throughout the stitching process. Next, fill in the remaining pixels on the RHS by transforming their pixel coordinates (left image coordinates) to the right image coordinates via the homography from Task 2 and determining the intensity using your bilinear interpolation implementation. If the right pixel  coordinate is valid, generate the pixel value using bilinear interpolation, but if the right pixel coordinate is invalid, use a pixel value of zero. Display the stitching results. It should look like a wide-angle image with a visible seam where the two images join."
   ]
  },
  {
   "cell_type": "code",
   "execution_count": 8,
   "metadata": {
    "id": "ZhbBhmL419Oj"
   },
   "outputs": [],
   "source": [
    "# Write your code here"
   ]
  },
  {
   "cell_type": "code",
   "execution_count": 9,
   "metadata": {
    "id": "iag2ovT-19Oj"
   },
   "outputs": [],
   "source": [
    "# Show results here\n"
   ]
  },
  {
   "cell_type": "markdown",
   "metadata": {
    "id": "WOTNi9kk19Oj"
   },
   "source": [
    "# Task 5: Better blending\n",
    "\n",
    "Improve the visual quality of the stitched image by trying the following image processing techniques:\n",
    "\n",
    "1. Adjust the width of the output image automatically so that fewer black pixels are\n",
    "visible \n",
    "2. Adjust the brightness (by a scaling factor) of each image so that the seam is less\n",
    "visible\n",
    "3. Apply a small amount of Gaussian blur or alpha blending near the seam to make\n",
    "it less visible\n",
    "4. Adjust the horizontal location of the seam (it can be moved further to the left as\n",
    "the right image overlaps into the left by quite a few pixels)\n",
    "\n",
    "Note that you do not have to try all of the above. However, you will only receive a mark here depending on\n",
    "• the quality of the stitched image\n",
    "• whether a serious programming attempt is made to improve the visual quality of the stitched image"
   ]
  },
  {
   "cell_type": "code",
   "execution_count": 10,
   "metadata": {
    "id": "5lrUukU019Ok"
   },
   "outputs": [],
   "source": [
    "# Write your code here"
   ]
  },
  {
   "cell_type": "code",
   "execution_count": 11,
   "metadata": {
    "id": "IFvmr--p19Ok"
   },
   "outputs": [],
   "source": [
    "# Show results here\n",
    "\n",
    "\n",
    "\n"
   ]
  },
  {
   "cell_type": "markdown",
   "metadata": {
    "id": "zj4qhLg319Ok"
   },
   "source": [
    "# Task 6: Now try your own!\n",
    "\n",
    "In this final task, you will:\n",
    "1. Take two images from different perspective of the same scenery and display it\n",
    "2. Find and match key points across the two images\n",
    "3. Calculate the homography matrix1 . Print out the homography matrix that you end\n",
    "up using.\n",
    "4. Apply image stitching and quality improvement for a final image (from tasks 1 to 5)"
   ]
  },
  {
   "cell_type": "code",
   "execution_count": 12,
   "metadata": {
    "id": "B2oBNqa419Ol"
   },
   "outputs": [],
   "source": [
    "# Write your code here"
   ]
  },
  {
   "cell_type": "code",
   "execution_count": 13,
   "metadata": {
    "id": "o1OjrXJ_19Ol"
   },
   "outputs": [],
   "source": [
    "# Show results here\n",
    "\n",
    "\n",
    "\n"
   ]
  },
  {
   "cell_type": "markdown",
   "metadata": {
    "id": "Rvhs6EwW19Ol"
   },
   "source": [
    "# Discussion:\n",
    "\n",
    "Write a brief (600 word max) report describing how you solved each task, interpreting the results and pointing to any insights gained along the way. For example, you may wish to explain what a homography is, the conditions under which it can be used. Analyse the stitched images and explain any interesting artifacts you may see and why these occur. You should discuss the reasons for the presence of the image seam, and the strategies you used to improve this, pointing to the theory you have learned in class that guided your solution. Finally, explain any changes you made to the code to apply it to your own images. \n",
    "\n"
   ]
  },
  {
   "cell_type": "markdown",
   "metadata": {},
   "source": []
  }
 ],
 "metadata": {
  "colab": {
   "provenance": []
  },
  "kernelspec": {
   "display_name": ".venv",
   "language": "python",
   "name": "python3"
  },
  "language_info": {
   "codemirror_mode": {
    "name": "ipython",
    "version": 3
   },
   "file_extension": ".py",
   "mimetype": "text/x-python",
   "name": "python",
   "nbconvert_exporter": "python",
   "pygments_lexer": "ipython3",
   "version": "3.12.3"
  }
 },
 "nbformat": 4,
 "nbformat_minor": 1
}
