{
 "cells": [
  {
   "attachments": {},
   "cell_type": "markdown",
   "metadata": {},
   "source": [
    "$\\color{green}{\\text{This notebook is best viewed in jupyter lab/notebook. You may also choose to use Google Colab but some parts of the images/colouring will not be rendered properly.}}$"
   ]
  },
  {
   "attachments": {},
   "cell_type": "markdown",
   "metadata": {},
   "source": [
    "# Lab 4 (Weeks 10,11): Linear Regression"
   ]
  },
  {
   "attachments": {},
   "cell_type": "markdown",
   "metadata": {},
   "source": [
    "<div class=\"alert alert-block alert-info\">\n",
    "<b>Enter you credentials below</b>\n",
    "\n",
    "- <b>Student Name:</b> James Slatter\n",
    "- <b>Student ID:</b> 33890552\n",
    "- <b>Date:</b> May 20, 2022\n",
    "</div>"
   ]
  },
  {
   "attachments": {},
   "cell_type": "markdown",
   "metadata": {},
   "source": [
    "## Linear Regression\n",
    "\n",
    "_Linear regression_, as the name implies, finds the _best fit line_ (or plane/hyperplane in high-dimensional spaces) between the _independent_ and _dependent_ variable (i.e., input data and target output). Recall that we approached the univariate linear regression in the class first and built our way up to multivariate input/output forms. Univariate linear regression describes the situation where only one independent variable is presented (i.e., $x \\in \\mathbb{R}$) and the model has to find the linear relationship of it with the dependent variable (i.e., $y$). In the multivariate form, we have more than one independent variable (i.e., $\\boldsymbol{x} \\in \\mathbb{R}^n$) and the model may have multiple outputs to predict (i.e., $\\boldsymbol{y} \\in \\mathbb{R}^p$). <br> \n",
    "If you want to have a quick wrap-up, check the following Wikipedia article:\n",
    "[Linear Regression](https://en.wikipedia.org/wiki/Linear_regression)"
   ]
  },
  {
   "attachments": {},
   "cell_type": "markdown",
   "metadata": {},
   "source": [
    "<!-- <p float=\"left\">\n",
    "    <img src=\"img/linear_regression_s.png\" alt=\"LR_s\" width=\"49%\"/>\n",
    "    <img src=\"img/linear_regression_m.png\" alt=\"LR_m\" width=\"49%\"/> \n",
    "</p> -->\n",
    "<p float=\"center\">\n",
    "    <img src=\"img/linear_regression_both.png\" alt=\"LR_s\" width=\"100%\"/>\n",
    "    <br>\n",
    "Figure:  <em>Simple Linear Regression (left)</em> &emsp; vs. \n",
    "&emsp; <em>Multiple Linear Regression (right)</em>\n",
    "</p>\n",
    "\n",
    "As shown in the figure, linear regression can be understood as finding the _best-fitting straight line_ (or _plane_ in multidimensional cases) through the training examples. This best-fitting line is also called the **regression line**, and the vertical lines from the regression line to the training examples are the so-called **offsets** or **residuals** — the errors of our prediction.\n"
   ]
  },
  {
   "attachments": {},
   "cell_type": "markdown",
   "metadata": {},
   "source": [
    "## What you are going to do in this lab exercise!\n",
    "\n",
    "In this laboratory exercise, you will create a program to find the linear relationship between the dependent and independent variable(s). <br> In all of the tasks below, you **may not** use any pre-written libraries for linear regression functions (e.g. <span style=\"color:red\"> no </span> scikit-learn), instead you should use your knowledge of python and numpy to build your own code. \n",
    "\n",
    "<div class=\"alert alert-block alert-warning\">\n",
    "    \n",
    "- **Tasks 1 & 2** :  Perform linear regression on data from a study on life expectancy around the globe. We will use this data to understand how linear regression works. The great thing here is that we use some actual real data instead of synthetic one!\n",
    "- **Tasks 3, 4 & 5** :  Restore faces from corrupted images. We will use linear regression in order to restore images. You will be amazed at what you can achieve with linear regression, once you’ve properly modelled a problem.\n",
    "    \n",
    "</div>"
   ]
  },
  {
   "cell_type": "code",
   "execution_count": 1,
   "metadata": {},
   "outputs": [],
   "source": [
    "# As always, we first import several libraries that will be helpful to solve the tasks\n",
    "import matplotlib.pyplot as plt\n",
    "import numpy as np\n",
    "from matplotlib import cm"
   ]
  },
  {
   "attachments": {},
   "cell_type": "markdown",
   "metadata": {},
   "source": [
    "## Task 1: Simple Linear Regression\n",
    "We begin with a simple example of univariate linear regression. Suppose that we are statistical consultants and want to investigate the factors (i.e. Alcohol, BMI, GDP) affecting life expectancy. We will seek to fit a univariate linear regression model, with _'Life expectancy'_ as the response $y$ and '_Alcohol, BMI,_ or _GDP_' as the input $x$.\n",
    "\n",
    "The linear relationship between $x$ and $y$ can be written as:\n",
    "\\begin{equation}\n",
    "    y \\approx w[0] + w[1] x \\tag{1}\\;.\n",
    "\\end{equation}\n"
   ]
  },
  {
   "attachments": {},
   "cell_type": "markdown",
   "metadata": {},
   "source": [
    "<div class=\"alert alert-block alert-info\">\n",
    "    \n",
    "#### In this task, you will work on the following points:\n",
    " 1. From the provided files, use Alcohol data as $x$ to predict life expectancy as $y$. Write your own **linearRegression\\_cof()** function, which takes $\\boldsymbol{X} \\in \\mathbb{R}^{m \\times n}$ and $\\boldsymbol{Y} \\in \\mathbb{R}^{m \\times p}$ to compute the optimal parameter of the model coefficients $\\boldsymbol{w} = \\big(w[0],w[1]\\big)^\\top$. Here $m$ is the number of data samples we have, $n$ is the dimensionality of input $\\boldsymbol{x}$ and $p$ is the dimensionality of target $\\boldsymbol{y}$. <br>You may **not** use  pre-existing linear regression functions (e.g., the one from scikit-learn). <br>\n",
    "    Recall that the solution of linear regression can be written as\n",
    "\\begin{align}\n",
    "    {\\boldsymbol{W}}^\\ast = (X^{\\top}X)^{-1}X^{\\top}Y \\;. \\tag{2}\n",
    "\\end{align}\n",
    "Recall that $\\boldsymbol{X}$ is a matrix where data points are stacked in its rows (each row is one data point). Similarly, $\\boldsymbol{Y}$ is a matrix where its rows store the desired output of the model. Since we use only Alcohol as $x$, then $n=1$. Also, since we are only interested in predicting the life expectancy, $p=1$. <br>\n",
    "    **Hint**: You need to include a bias term in your model (i.e., $w[0]$). As discussed in the class (see Section 2.2 in the lecture notes), you just need to augment your data by adding a column of ones to the matrix $\\boldsymbol{X}$ (add it from the left so the first element of your weight vector shows the bias).\n",
    "\n",
    "    \n",
    " 2. Obtain and print the coefficients $w[0], w[1]$ for the _Alcohol_ input.\n",
    "    \n",
    "\n",
    " 3. Repeat the previous steps, but this time consider _BMI_ as input $x$.  \n",
    "     \n",
    "  \n",
    " 4. Write a function **predict()**, which takes a data point $\\boldsymbol{x}_q$ and coefficients $\\boldsymbol{w}$ and returns the prediction $\\hat{y} = \\boldsymbol{w}^\\top \\boldsymbol{x}_q$. <br>\n",
    "**Hint:** Again you need to be careful about how you use the bias term $w[0]$. One possible solution is to always augment $\\boldsymbol{x}_q$ with a constant feature 1 and then forming $\\hat{y}_q = \\boldsymbol{w}^\\top \\boldsymbol{x}_{q,\\text{aug}}$, where we denote the augmented  $\\boldsymbol{x}_{q}$ by $\\boldsymbol{x}_{q,\\text{aug}}$. Needless to say, you need to put the constant feature 1 at the correct location (so if you augment from left, meaning you add a 1 as the very first element of each training sample $x$, then you need to do the same with $x_q$). \n",
    "        \n",
    "        \n",
    " 5. Use this predict() function to plot $y = $ 'Life expectancy'  against $x =$ 'Alcohol' and  $x =$ 'BMI' on your training data. Display the original data as a scatter plot together with your predicted best-fit line.\n",
    "    \n",
    "    \n",
    " 6. Judging by your visualisations of the data and the regression line, can you explain what the results would mean if you had to use this model to make a prediction? Does the dependency seem reasonable to you, and why / why not? What could be the reason for this dependency in the data? "
   ]
  },
  {
   "attachments": {},
   "cell_type": "markdown",
   "metadata": {},
   "source": [
    "**Loading the data**"
   ]
  },
  {
   "cell_type": "code",
   "execution_count": 2,
   "metadata": {},
   "outputs": [],
   "source": [
    "# === Task1 ===\n",
    "# Alcohol data: task1_alc.npy\n",
    "# BMI data:     task1_bmi.npy\n",
    "# GDP data:     task1_gdp.npy\n",
    "# Life expect.: task1_lifeexpt.npy\n",
    "\n",
    "# Load data from drive\n",
    "X_alc = np.load('data/task1_alc.npy')\n",
    "X_bmi = np.load('data/task1_bmi.npy')\n",
    "X_gdp = np.load('data/task1_gdp.npy')\n",
    "Y = np.load('data/task1_lifeexpt.npy')"
   ]
  },
  {
   "attachments": {},
   "cell_type": "markdown",
   "metadata": {},
   "source": [
    "#### 1. Regression function"
   ]
  },
  {
   "cell_type": "code",
   "execution_count": null,
   "metadata": {},
   "outputs": [
    {
     "name": "stdout",
     "output_type": "stream",
     "text": [
      "m: 73, n: 1, p: 1\n"
     ]
    }
   ],
   "source": [
    "def linearRegression_cof(X, Y):\n",
    "    \n",
    "    # You should write this linearRegression_cof function based on the multivariate case, so you can use it for later tasks (ie. tasks 2-3)\n",
    "    # Inputs: X - For a univariate case, this will be m * 1, for multivariate, this will be m * n\n",
    "    #         Y - For a univariate case, this will be m * 1, for multivariate, this will be m * p\n",
    "    m = X.shape[0]\n",
    "    n = X.shape[1] if len(X.shape) > 1 else 1\n",
    "    p = Y.shape[1] if len(Y.shape) > 1 else 1\n",
    "    a0 = \n",
    "    # Output: The coefficients of the linear regression model\n",
    "\n",
    "    ## HINT!! You may want to use the pseudo-inverse (pinv) instead of calculating for the inverse directly. This will resolve any singular matrix issues in later tasks\n",
    "\n",
    "    return \n"
   ]
  },
  {
   "attachments": {},
   "cell_type": "markdown",
   "metadata": {},
   "source": [
    "#### 2. Obtaining regression coefficients for _Alcohol_\n",
    "\n",
    "_Hint: You need to ensure you add in a bias term, we won't remind you this everytime!_"
   ]
  },
  {
   "cell_type": "code",
   "execution_count": null,
   "metadata": {},
   "outputs": [],
   "source": [
    "## Add in your code here"
   ]
  },
  {
   "attachments": {},
   "cell_type": "markdown",
   "metadata": {},
   "source": [
    "_Hint:_ If you wrote the function correctly, your answer for the _Alcohol_ data should be close to: $w_{0}=63.130, w_{1}=0.967$ \n"
   ]
  },
  {
   "attachments": {},
   "cell_type": "markdown",
   "metadata": {},
   "source": [
    "#### 3. Obtaining regression coefficients for _BMI_"
   ]
  },
  {
   "cell_type": "code",
   "execution_count": null,
   "metadata": {},
   "outputs": [],
   "source": [
    "## Add in your code here"
   ]
  },
  {
   "attachments": {},
   "cell_type": "markdown",
   "metadata": {},
   "source": [
    "_Hint:_ If you wrote the function correctly, your answer for the _BMI_ data should be close to: $w_{0}=60.749, w_{1}=0.191$ "
   ]
  },
  {
   "attachments": {},
   "cell_type": "markdown",
   "metadata": {},
   "source": [
    "#### 4. & 5. Predicting the Life Expectancy"
   ]
  },
  {
   "attachments": {},
   "cell_type": "markdown",
   "metadata": {},
   "source": [
    "Write a function **predict()**, which takes a data point $\\boldsymbol{x}_q$ and coefficients $\\boldsymbol{w}$ and return the prediction $\\hat{y} = \\boldsymbol{w}^\\top \\boldsymbol{x}_q$."
   ]
  },
  {
   "cell_type": "code",
   "execution_count": null,
   "metadata": {},
   "outputs": [],
   "source": [
    "def predict(X, w):\n",
    "    \n",
    "    # This is for a univariate case\n",
    "    # Inputs: x - input data\n",
    "    #         w - Coefficients for the linear regression model\n",
    "    # Output: The predicted values based on x and w \n",
    "    \n",
    "    return "
   ]
  },
  {
   "attachments": {},
   "cell_type": "markdown",
   "metadata": {},
   "source": [
    "Now, we will use this **predict()** function to plot Y = 'Life expectancy' against the predictor X = 'Alcohol' and 'BMI'. You are asked to display both the original data as a scatter plot and your predicted best fit line."
   ]
  },
  {
   "cell_type": "code",
   "execution_count": null,
   "metadata": {},
   "outputs": [],
   "source": [
    "#Display the scatter results\n"
   ]
  },
  {
   "attachments": {},
   "cell_type": "markdown",
   "metadata": {},
   "source": [
    "#### 6. Data interpretation"
   ]
  },
  {
   "attachments": {},
   "cell_type": "markdown",
   "metadata": {},
   "source": [
    "<div class=\"alert alert-block alert-success\"> \n",
    " \n",
    "#### Judging by your visualisations of the data and the regression line, can you explain what the results would mean if you had to use this model to make a prediction? Does the dependency seem reasonable to you, and why / why not? <br> What could the reason for this dependency in the data be?\n",
    "    \n",
    "Write your answers here\n",
    "    \n",
    "</div>\n"
   ]
  },
  {
   "attachments": {},
   "cell_type": "markdown",
   "metadata": {},
   "source": [
    "## Task 2: Multivariate Linear Regression\n",
    "\n",
    "In this task, you will extend your program to fit a multivariate linear regression model. We again use Linear Regression to fit a model but this time with three features $x[1]=$ BMI, $x[2]=$ Alcohol, and $x[3]$= GDP. That is, \n",
    "\n",
    "\\begin{equation}\n",
    "    y \\approx w[0] + w[1] x[1] + w[2] x[2] + w[3] x[3] \\;. \\tag{3}\n",
    "\\end{equation}\n"
   ]
  },
  {
   "attachments": {},
   "cell_type": "markdown",
   "metadata": {},
   "source": [
    "<div class=\"alert alert-block alert-info\">\n",
    "    \n",
    "**In this task, you will work on the following points**:\n",
    "    \n",
    " 1. Extend your program to fit your regression model to the afore-described combination of _BMI_, _Alcohol_ and _GDP_ data loaded in Task 1. Print your results for the obtained regression coefficients $\\boldsymbol{w}^\\ast = \\big(w[0], w[1], w[2], w[3]\\big)^\\top$.\n",
    "\n",
    " 2. Now, we are intersted in evaluating the performance of our linear regression model. \n",
    "Up to now, we have fit a regression model on training data. Let’s see how good our model is when it comes to data that it hasn’t seen during training. Here we will test our linear model with data from Australia.<br>\n",
    "For this, you will need to write a function **compute_sse()**, which computes the error as:\n",
    "    \n",
    "\\begin{align}\n",
    "    \\boldsymbol{L}_\\text{SSE} =\\sum_{q} \\big\\|y_{q} - \\boldsymbol{w}^\\top \\boldsymbol{x}_{q} \\big\\|^2\\;. \\tag{4}\n",
    "\\end{align}\n",
    " \n",
    " 3. Evaluating the predictions on unseen test data from year=2002, country=Australia, measure and discuss the following:\n",
    "    \n",
    "    a) What is $\\boldsymbol{L}_\\text{SSE}$ if we only use $X$=BMI to train our model?\n",
    "        \n",
    "    b) What is $\\boldsymbol{L}_\\text{SSE}$ if we only use $X$=BMI,  $X_2$=Alcohol, and $X_3$=GDP to train our model?\n",
    "\n",
    "    c) Thinking back to Task 1: If you could only choose **one** feature, either $X$=BMI **or** $X$=Alcohol, which one would you choose to make a prediction? Explain your reasoning.\n",
    "    \n",
    "    d) Of you wanted to predict  GDP from $X$=BMI, and  $X_2$=Alcohol, what would you do? \n",
    "</div>"
   ]
  },
  {
   "attachments": {},
   "cell_type": "markdown",
   "metadata": {},
   "source": [
    "#### 1. Obtaining coefficients for multiple linear regression (on training data from Task 1)\n",
    "\n",
    "_Hint: Don't forget to add in the bias term!_"
   ]
  },
  {
   "cell_type": "code",
   "execution_count": null,
   "metadata": {},
   "outputs": [],
   "source": []
  },
  {
   "attachments": {},
   "cell_type": "markdown",
   "metadata": {},
   "source": [
    "_Hint:_ If you wrote the function correctly, your results should be close to: $w_{0}=61.075, w_{1}=0.154, w_{2}=0.690, w_{3}=-0.005$ "
   ]
  },
  {
   "attachments": {},
   "cell_type": "markdown",
   "metadata": {},
   "source": [
    "#### 2. Computing the Error to evaluate the performance of the linear regression models"
   ]
  },
  {
   "cell_type": "code",
   "execution_count": null,
   "metadata": {},
   "outputs": [],
   "source": [
    "#Compute the sum squared error\n",
    "def compute_sse(y_estimate, y): \n",
    "    \n",
    "    # Inputs: y_estimate is your estimated y from your linear regression model\n",
    "    #         y is your actual y \n",
    "    # Output: Return your sum squared error\n",
    "    \n",
    "    \n",
    "    return "
   ]
  },
  {
   "attachments": {},
   "cell_type": "markdown",
   "metadata": {},
   "source": [
    "#### 3. Evaluating on unseen test data"
   ]
  },
  {
   "cell_type": "code",
   "execution_count": 3,
   "metadata": {},
   "outputs": [],
   "source": [
    "# Load the test data for this task: Australia, year 2002\n",
    "# Test BMI data:     task2_AU2002_test_bmi.npy\n",
    "# Test Alcohol data: task2_AU2002_test_alc.npy\n",
    "# Test GDP data:     task2_AU2002_test_gdp.npy\n",
    "# Test Life expect.: task2_AU2002_test_lifeexpt.npy\n",
    "\n",
    "# Important: Be careful NOT to confuse your training and test data! \n",
    "# Training data is for fitting the model, test data for evaluation only!\n",
    "\n",
    "# Load the test data from drive\n",
    "X_bmi_test = np.load('data/task2_AU2002_test_bmi.npy')\n",
    "X_alc_test = np.load('data/task2_AU2002_test_alc.npy')\n",
    "X_gdp_test = np.load('data/task2_AU2002_test_gdp.npy')\n",
    "Y_test = np.load('data/task2_AU2002_test_lifeexpt.npy')"
   ]
  },
  {
   "attachments": {},
   "cell_type": "markdown",
   "metadata": {},
   "source": [
    "##### a) $L_{\\text{SSE}}$ when trained on $X=$ 'BMI'  (Coeficients from Task 1)"
   ]
  },
  {
   "cell_type": "code",
   "execution_count": null,
   "metadata": {},
   "outputs": [],
   "source": [
    "# Show your SSE value"
   ]
  },
  {
   "attachments": {},
   "cell_type": "markdown",
   "metadata": {},
   "source": [
    "##### b) $L_{\\text{SSE}}$ when trained on $X_1=$ 'BMI', $X_2=$ 'Alcohol' and $X_3=$ 'GDP'  "
   ]
  },
  {
   "cell_type": "code",
   "execution_count": null,
   "metadata": {},
   "outputs": [],
   "source": [
    "# Show your SSE value"
   ]
  },
  {
   "attachments": {},
   "cell_type": "markdown",
   "metadata": {},
   "source": [
    "##### c) Question\n",
    "\n",
    "<div class=\"alert alert-block alert-success\"> \n",
    " \n",
    "#### Thinking back to Task 1: If you could only choose **one** feature, either $X$=BMI **or** $X$=Alcohol, which one would you choose to make a prediction? Why? Explain your reasoning!\n",
    "    \n",
    "Write your answer here\n",
    "    \n",
    "</div>\n",
    "\n"
   ]
  },
  {
   "attachments": {},
   "cell_type": "markdown",
   "metadata": {},
   "source": [
    "##### d) Question\n",
    "\n",
    "<div class=\"alert alert-block alert-success\"> \n",
    " \n",
    "#### If you wanted to predict 'GDP' from $X_1=$ 'BMI' and $X_2=$ 'Alcohol', what would you do? Explain your reasoning and the steps to take.\n",
    "    \n",
    "Write your answer here\n",
    "    \n",
    "</div>"
   ]
  },
  {
   "attachments": {},
   "cell_type": "markdown",
   "metadata": {},
   "source": [
    "    \n",
    "## Task 3: Image restoration of human face pictures\n",
    "In the following tasks, you will now use your knowledge of linear regression together with the functions you implemented in the previous tasks to 'complete' or 'restore' images that have been corrupted. \n",
    "\n",
    "We will work with a subset of the well-known Labeled Faces in the Wild (LFW) [dataset](http://vis-www.cs.umass.edu/lfw/) that comprises a selection of images depicting the faces of various celebritries. Our selected data set consists of a total number of 273 images, each with height 62px and width 47px. This data is split into 185 training and 88 test images.\n",
    "\n",
    "<div class=\"alert alert-block alert-info\">\n",
    "    \n",
    "#### In this task, you will work on the following four points:\n",
    " 1. Load _'train_face_crpt.npy'_ & _'train_face_clean.npy'_ as your training data set, and _'test_face_crpt.npy'_ & _'test_face_clean.npy'_ as your test data set. Display an example image from the corrupted training set (_'train_face_crpt.npy'_) and the corrupted test set (_'test_face_crpt.npy'_) side-by-side to check the correct data import and to see what you're going to work with. <br> \n",
    "    Depending on your knowledge of celebrities, you might notice that it is quite hard to identify the person on the image, since 50% of the pixels have been corrupted! So let's reconstruct the missing data to find out who it is!\n",
    " \n",
    " 2. Write a Linear Regression function _'regression_fit()'_ to fit a model using the data of the training set. Your function should take the corrupted and the uncorrupted images of your training set as arguments (you try to predict the clean image from the corrupted one).) <br>\n",
    "    Note that you should re-use your previously developed _'linearRegression\\_cof()'_ function from Task 1. You may **not** use pre-implemented functions from external libraries that perform linear regression! (Mathematical operations from numpy are allowed)\n",
    " \n",
    " 3. To check how well your model works on unseen data, you will now use the optimised regression model to predict the missing pixels of the faces from the unseen test set (i.e., perform 'image completion'). Your _'predict()'_ function will take in the corrupted samples and regression coefficients and return the restored images. <br>\n",
    "    For the 9th image of the test set (i.e., image[8]), display the uncorrupted version, the corrupted version and your reconstructed one side-by-side to compare!\n",
    " \n",
    " 4.  Repeat step 3 for the training images, i.e., perform image completion, and display the results for the 6th image of the training set (i.e., image[5]) in the same side-by-side way as before.\n",
    "\n",
    " 5.  What do you observe if you compare the image quality of the restored test image to the restored training image? Why does our regression model perform differently for these two sets? \n",
    "</div>"
   ]
  },
  {
   "attachments": {},
   "cell_type": "markdown",
   "metadata": {},
   "source": [
    "#### 1. Loading and displaying data"
   ]
  },
  {
   "cell_type": "code",
   "execution_count": 4,
   "metadata": {},
   "outputs": [
    {
     "name": "stdout",
     "output_type": "stream",
     "text": [
      "We have a total of 185 training images, each with height 62px and width 47px.\n"
     ]
    },
    {
     "data": {
      "image/png": "[encoded data removed]",
      "text/plain": [
       "<Figure size 720x1440 with 2 Axes>"
      ]
     },
     "metadata": {
      "needs_background": "light"
     },
     "output_type": "display_data"
    }
   ],
   "source": [
    "# ===Task3===\n",
    "# Training set: Original images:    train_face_clean.npy\n",
    "# Training set: Corrupted images:   train_face_crpt.npy\n",
    "# Test set: Original images:        test_face_clean.npy\n",
    "# Test set: Corrupted images:       test_face_crpt.npy\n",
    "\n",
    "# Load data from drive\n",
    "train_imgs_crpt = np.load('data/train_face_crpt.npy')\n",
    "train_imgs_clean = np.load('data/train_face_clean.npy')\n",
    "test_imgs_crpt = np.load('data/test_face_crpt.npy')\n",
    "test_imgs_clean = np.load('data/test_face_clean.npy')\n",
    "\n",
    "# Lets see what the corrupted training data looks like\n",
    "# --> Visualise e.g. img[5] of the corrupted train and img[8] of the corrupted test set (but feel free to check others as well)\n",
    "fig, (ax0, ax1 )= plt.subplots(1,2, figsize = (10,20))\n",
    "ax0.imshow(train_imgs_crpt[5], cmap=\"gray\")\n",
    "ax0.title.set_text(\"Corrupted training data\")\n",
    "ax1.imshow(test_imgs_crpt[8], cmap=\"gray\")\n",
    "ax1.title.set_text(\"Corrupted test data\")\n",
    "\n",
    "n_samples, h, w = train_imgs_crpt.shape\n",
    "print(f'We have a total of {n_samples} training images, each with height {h}px and width {w}px.')"
   ]
  },
  {
   "attachments": {},
   "cell_type": "markdown",
   "metadata": {},
   "source": [
    "#### 2. Fitting the regression model / Determining the parameters"
   ]
  },
  {
   "cell_type": "code",
   "execution_count": null,
   "metadata": {},
   "outputs": [],
   "source": [
    "# Implement regression_fit() \n",
    "def regression_fit(samples_X, samples_Y):\n",
    "    # input arguments: \n",
    "    #    samples_X: training samples\n",
    "    #    samples_Y: training 'labels' (uncorrupted samples)\n",
    "    # output:\n",
    "    #    reg_cof: regression coefficients (parameters)\n",
    "    \n",
    "    # You may choose to call your linearRegression_cof function from task 1 if you already implemented a multivariate case\n",
    "    \n",
    "    return "
   ]
  },
  {
   "cell_type": "code",
   "execution_count": null,
   "metadata": {},
   "outputs": [],
   "source": [
    "# Retrieve the regression parameters\n"
   ]
  },
  {
   "attachments": {},
   "cell_type": "markdown",
   "metadata": {},
   "source": [
    "#### 3. Completing the corrupted images of the unseen test data by using linear regression to predict the missing pixels"
   ]
  },
  {
   "cell_type": "code",
   "execution_count": null,
   "metadata": {},
   "outputs": [],
   "source": [
    "# Predict the missing pixels for all test images\n",
    "def predict(samples, reg_cof):\n",
    "    \n",
    "    # Remember, we are dealing with the case where we have multivariate inputs AND outputs (so each pixel has its own output value) \n",
    "    \n",
    "    # input arguments: \n",
    "    #    samples: np.array with image data, shape (N, h, w)\n",
    "    #    reg_cof: regression coefficients / parameters\n",
    "    # output:\n",
    "    #    recon_samples: np.array with image data, shape (N, h, w)\n",
    "\n",
    "    return recon_samples_res"
   ]
  },
  {
   "cell_type": "code",
   "execution_count": null,
   "metadata": {},
   "outputs": [],
   "source": [
    "# Predict / Restore images of the test set\n",
    "\n",
    "\n",
    "# Display the reconstructed versions of the previously chosen corrupted test image alongside the original and corrupted one\n",
    "# (Side-by-side plot of all three images: 'Clean test img', 'Corrupted test img', 'Restored test img')\n",
    "\n"
   ]
  },
  {
   "attachments": {},
   "cell_type": "markdown",
   "metadata": {},
   "source": [
    "#### 4. Completing the corrupted training images via linear regression"
   ]
  },
  {
   "cell_type": "code",
   "execution_count": null,
   "metadata": {},
   "outputs": [],
   "source": [
    "# Predict / Restore images of the training set\n",
    "\n",
    "\n",
    "# Display the reconstructed versions of the previously chosen corrupted test image alongside the original and corrupted one\n",
    "# (Side-by-side plot of all three images: 'Clean train img', 'Corrupted train img', 'Restored train img')\n"
   ]
  },
  {
   "attachments": {},
   "cell_type": "markdown",
   "metadata": {},
   "source": [
    "<div class=\"alert alert-block alert-success\"> \n",
    " \n",
    "#### What do you observe if you compare the image quality of the restored test image to the restored training image? Why does our regression model perform differently for these two sets?\n",
    "    \n",
    "Write your answer here\n",
    "    \n",
    "</div>"
   ]
  },
  {
   "attachments": {},
   "cell_type": "markdown",
   "metadata": {},
   "source": [
    "## Task 4: Peak Signal-to-Noise Ratio PSNR"
   ]
  },
  {
   "attachments": {},
   "cell_type": "markdown",
   "metadata": {},
   "source": [
    "The _Peak Signal to Noise Ration_ (PSNR) is defined as the ratio of the maximum possible power of a signal to the power of corrupting noise that affects representation fidelity. PSNR is most easily defined via the mean squared error (MSE). Given a noise-free $m\\times n$ grayscale image $I$ and its noisy approximation $K$, the $\\mathrm{MSE}$ and $\\mathrm{PSNR}$ are defined as\n",
    "\n",
    "\\begin{align}\n",
    "    \\mathrm{MSE} &= \\frac{1}{mn} \\sum^{m-1}_{i=0} \\sum^{n-1}_{j=0} [I(i,j)-K(i,j)]^{2} \\\\\n",
    "    \\mathrm{PSNR} &= 20 \\cdot log_{10}(\\mathrm{MAX}_I))-10 \\cdot log_{10}(\\mathrm{MSE}).\n",
    "\\end{align}\n",
    "\n",
    "Note that $\\mathrm{MAX}_I$ denotes the maximum possible value a pixel can have.\n",
    "\n",
    "See this [Reference](https://en.wikipedia.org/wiki/Peak_signal-to-noise_ratio) for more details.\n",
    "\n"
   ]
  },
  {
   "attachments": {},
   "cell_type": "markdown",
   "metadata": {},
   "source": [
    "<div class=\"alert alert-block alert-info\">\n",
    "    \n",
    "#### In this task, you will conentrate on the following points:\n",
    "    \n",
    " 1. Implement a function _'PSNR()'_ that takes in two images to measure the Peak Signal to Noise Ratio between them. In our case, we want to measure the PSNR between a reconstructed image and its original uncorrupted version. _Hint_: Make sure to convert the image intensities to integer values ([0,255]) for this computation.\n",
    " \n",
    " 2. We are again considering the 9th image of the test set from Task 3 (i.e., image[8]). Use your implemented function to measure the PSNR of your restored version of this test image. Additionally compute the PSNR of the corrupted version of this image (the 'raw corrupted' test data). \n",
    "    \n",
    " 3. Now, load the additionally provided data samples _'train_face_crpt_rdm.npy'_ and _'test_face_crpt_rdm.npy'_, and visualise the 6th image of this new train set (i.e., image[5]) and the 9th image of this new test set (i.e., image[8]). If you compare these two images to the ones loaded in Task 3, you will notice that this new data is almost identical to the previously used data (ignoring the uncorrupted 'frame'), but is **corrupted with a random pattern for each image**, whereas the **previously** used images were all **corrupted by the exact same pattern**. (You can check by inspecting the train and test images you displayed in Task 3). \n",
    "    \n",
    " 4. Repeat the regression fitting, prediction and visualisation from Task 3 on these new data samples. <br>\n",
    "  \n",
    " 5. Now again, use your implemented function to measure the PSNR of your restored version of the 9th test image (i.e., image[8]) and additionally compute the PSNR of the 'randomly' corrupted version of this image (the new 'raw corrupted' test data).  <br>\n",
    "\n",
    " 6. Compare your PSNR and visual results from step 5 with the ones from step 2! Can you explain what might have changed that led to differences between the restored images, and why this happens?\n",
    "</div>"
   ]
  },
  {
   "attachments": {},
   "cell_type": "markdown",
   "metadata": {},
   "source": [
    "#### 1. PSNR Implementation"
   ]
  },
  {
   "cell_type": "code",
   "execution_count": null,
   "metadata": {},
   "outputs": [],
   "source": [
    "## Implement PSNR to measure quantitative difference\n",
    "def PSNR(img1, img2):\n",
    "    \n",
    "    # Inputs: img1 - corrupted / reconstructed image (depending on what you are calculating)\n",
    "    #         img2 - clean image\n",
    "    # Output: The calculated PSNR value\n",
    "\n",
    "    return psnr"
   ]
  },
  {
   "attachments": {},
   "cell_type": "markdown",
   "metadata": {},
   "source": [
    "#### 2. Calculate the PSNR for the 9th test image (i.e., image[8]) from Task 3: corrupted image and restored version"
   ]
  },
  {
   "cell_type": "code",
   "execution_count": null,
   "metadata": {},
   "outputs": [],
   "source": [
    "img_idx_test = 8\n",
    "print(f'Evaluating PSNR for test image with index {img_idx_test} from Task 3.')\n",
    "\n",
    "## Print both PSNRs for corrupted and reconstructed versions\n"
   ]
  },
  {
   "attachments": {},
   "cell_type": "markdown",
   "metadata": {},
   "source": [
    "#### 3. Load new data corrupted with random patterns\n",
    "If you closely inspect the corrupted data and compare it to the one from the previous task, you will notice that apart from the obvious uncorrupted 'frame' we added, the corruption pattern now differs from image to image!"
   ]
  },
  {
   "cell_type": "code",
   "execution_count": 5,
   "metadata": {},
   "outputs": [
    {
     "name": "stdout",
     "output_type": "stream",
     "text": [
      "We have a total of 185 training images, each with height 62px and width 47px.\n"
     ]
    },
    {
     "data": {
      "image/png": "[encoded data removed]",
      "text/plain": [
       "<Figure size 720x720 with 2 Axes>"
      ]
     },
     "metadata": {
      "needs_background": "light"
     },
     "output_type": "display_data"
    }
   ],
   "source": [
    "# Load data from drive\n",
    "# Train images corrupted with random pattern: train_face_crpt_rdm.npy\n",
    "# Test  images corrupted with random pattern: test_face_crpt_rdm.npy\n",
    "train_imgs_crpt_rdm = np.load('data/train_face_crpt_rdm.npy')\n",
    "test_imgs_crpt_rdm = np.load('data/test_face_crpt_rdm.npy')\n",
    "\n",
    "# Lets see what the corrupted training data looks like\n",
    "# --> Visualise e.g. img[5] of the corrupted train and img[8] of the corrupted test set (but feel free to check others as well)\n",
    "fig, (ax0, ax1 )= plt.subplots(1,2, figsize = (10,10))\n",
    "ax0.imshow(train_imgs_crpt_rdm[5], cmap=\"gray\")\n",
    "ax0.title.set_text(\"Rdm. crpt. train data\")\n",
    "ax1.imshow(test_imgs_crpt_rdm[8], cmap=\"gray\")\n",
    "ax1.title.set_text(\"Rdm. crpt. test data\")\n",
    "\n",
    "n_samples, h, w = train_imgs_crpt_rdm.shape\n",
    "print(f'We have a total of {n_samples} training images, each with height {h}px and width {w}px.')"
   ]
  },
  {
   "attachments": {},
   "cell_type": "markdown",
   "metadata": {},
   "source": [
    "#### 4. Repeat regression fit and prediction on new data"
   ]
  },
  {
   "cell_type": "code",
   "execution_count": null,
   "metadata": {},
   "outputs": [],
   "source": [
    "# Retrieve the regression coefficients to reconstruct images from corrupted ones\n"
   ]
  },
  {
   "cell_type": "code",
   "execution_count": null,
   "metadata": {},
   "outputs": [],
   "source": [
    "# Predict the missing pixels for all test images\n"
   ]
  },
  {
   "cell_type": "code",
   "execution_count": null,
   "metadata": {},
   "outputs": [],
   "source": [
    "# Display the reconstruction results on the randomly corrupted test images\n",
    "# Use the same image index as previous task so you can directly compare the results\n",
    "\n",
    "img_idx = 8\n"
   ]
  },
  {
   "attachments": {},
   "cell_type": "markdown",
   "metadata": {},
   "source": [
    "#### 4. Calculate the PSNR for the 9th test image (i.e., image[8]): corrupted image and restored version"
   ]
  },
  {
   "cell_type": "code",
   "execution_count": null,
   "metadata": {},
   "outputs": [],
   "source": [
    "img_idx_test = 8"
   ]
  },
  {
   "cell_type": "code",
   "execution_count": null,
   "metadata": {},
   "outputs": [],
   "source": [
    "print(f'Evaluating PSNR for test image with index {img_idx_test} from Task 3.')\n",
    "\n",
    "## Show the two PSNR values for both corrupted and restored versions (for the randomly corrupted image)\n"
   ]
  },
  {
   "attachments": {},
   "cell_type": "markdown",
   "metadata": {},
   "source": [
    "##### 6. Question"
   ]
  },
  {
   "attachments": {},
   "cell_type": "markdown",
   "metadata": {},
   "source": [
    "<div class=\"alert alert-block alert-success\">\n",
    "    \n",
    "#### Compare your PSNR and visual results from step 5 with the ones from step 2! Can you explain what might have changed that led to differences between the restored images, and why this happens?\n",
    "<br><br>\n",
    "\n",
    "    \n",
    "Write your answer here\n",
    "\n",
    "</div>\n",
    "\n"
   ]
  },
  {
   "attachments": {},
   "cell_type": "markdown",
   "metadata": {},
   "source": [
    "# Task 5: Reconstruction from local neighbourhood\n",
    "We realised in the previous task that random corruption patterns for each image prove difficult for our naive linear regression model. In this task, we want to explore the possibility to reconstruct a corrupted pixel only from its local neighbourhood. In more detail, we will predict the value of a corrupted pixel by using a window of size $5\\times 11$ directly above the pixel. (This is also the reason why our 'new' corrupted images have an uncorrupted 'frame' of 5 pixels.)"
   ]
  },
  {
   "attachments": {},
   "cell_type": "markdown",
   "metadata": {},
   "source": [
    "<div class=\"alert alert-block alert-info\">\n",
    "    \n",
    "#### To accomplish this task, you will concentrate on the following points:\n",
    "    \n",
    " 1. Write a function _'extract_patch()'_ to extract patches of a specific patch size directly above a pixel of interest.\n",
    "    \n",
    " 2. Use your patch extraction function to create a new training data set as follows: \n",
    "    \n",
    "    a) For each corrupted pixel in the training images, extract a patch from the respective  uncorrupted training image directly above the pixel using your _'extract_patch()'_ function. \n",
    "    \n",
    "    b) Additionally store the 'correct' ground-truth value of the corrupted pixel.\n",
    "    \n",
    " 3. Using this new data set, determine the regression parameters by fitting your linear regression model (Re-use the function implemented in Task 3).\n",
    "    \n",
    " 4. Choose one image from the unseen randomly corrupted test dataset and predict the missing pixels of this image using your new regression model. \n",
    "\n",
    " 5. Visualise your new and previous results side-by-side: Original Image, Image Corrupted with Random pattern, Image reconstructed with 'naive' linear regression model (Task 3), Image reconstructed with 'local' regression model (this task). Display the PSNR values for tasks 3 and 5 for the the 9th test image (\\ie image[8])\n",
    "\n",
    "Note that while the linear regression model in task 3 was used to predict the entire image, we are only predicting one image intensity at a time in this task (i.e. a scalar value)! <br>\n",
    "    \n",
    "**Hint**: Your reconstruction should start at the top left of the image, since the local window (or patch) above will be uncorrupted and can thus be used for the prediction. Store all your reconstructed image intensities directly in the image, so that you can use the reconstructed values of the first row to predict the intensities of the 2nd row, and so on. <br>\n",
    "<br><br>\n",
    "**Optional**: After finishing your reconstruction using the local window, you can: <br>\n",
    "\n",
    " 6. Apply a mean filter over the reconstructed image by using _ndimage.uniform_filter()_ from the _scipy_ library\n",
    "    \n",
    " 7. Calculate the PSNR of the new reconstructed results and compare to the results you got in Task 4.\n",
    "\n",
    "</div>\n"
   ]
  },
  {
   "attachments": {},
   "cell_type": "markdown",
   "metadata": {},
   "source": [
    "**Main idea** (concise): Parse the image and check for pixels whose value is exactly 0 (i.e. black corrupted pixel);  For each of these pixels, take the area right above in a 5x11 pixel region from the corresponding uncorrupted training image and add it to the samples list (like we did before with the entire images) -- the Y value is the corresponding intensity of the actual pixel to be reconstructed (also to be extracted from the clean image)."
   ]
  },
  {
   "attachments": {},
   "cell_type": "markdown",
   "metadata": {},
   "source": [
    "#### 1. Patch extraction\n",
    "Create a function to extract a patch of size 'patch_size' (for us (5,11)) above the current pixel, symmetric to the left and right. A $5\\times 11$ patch should e.g. go 5 pixels above, 5 to the left and 5 to the right of the current pixel."
   ]
  },
  {
   "cell_type": "code",
   "execution_count": null,
   "metadata": {},
   "outputs": [],
   "source": [
    "def extract_patch(img, row, col, patch_size):\n",
    "    \n",
    "    # Inputs: img - the actual image\n",
    "    #         row - which row we are extracting from\n",
    "    #         col - which col we are extracting from\n",
    "    #         patch_size - the size of the patch that we want to extract\n",
    "    # Output : The patch\n",
    "    \n",
    "    return "
   ]
  },
  {
   "attachments": {},
   "cell_type": "markdown",
   "metadata": {},
   "source": [
    "#### 2. Extract training patches for corrupted pixels\n",
    "Theoretically, we could extract a patch for each individual pixel of all images (that have a sufficiently big neighbourhood).\n",
    "To reduce the use of data and speed up our computations, we will just use the first 10 images of the training set.\n",
    "We will further only extract patches for pixels that are currently corrupted in these training images. Since the corruption pattern is random, this should cover a sufficient number of different pixels.\n",
    "\n",
    "There are different ways to extract the patches, the comments below highlight one way"
   ]
  },
  {
   "cell_type": "code",
   "execution_count": null,
   "metadata": {},
   "outputs": [],
   "source": [
    "# For all images, go through each individual image (rows and cols) and find all corrupted pixels (value == 0)\n",
    "# Then, extract the 5x11 patch directly above the corrupted pixel from the same image of the uncorrupted training set, \n",
    "# and add it to the new patch-based training set X;\n",
    "# For the following prediction, also store the 'true' value of the pixel we want to reconstruct in the training labels set Y \n",
    "patch_size = (5,11)\n"
   ]
  },
  {
   "cell_type": "code",
   "execution_count": null,
   "metadata": {},
   "outputs": [],
   "source": [
    "# Add all the samples to an array (similar to the original training data)\n"
   ]
  },
  {
   "attachments": {},
   "cell_type": "markdown",
   "metadata": {},
   "source": [
    "#### 3. Fitting the regression model to the information of the image patches"
   ]
  },
  {
   "cell_type": "code",
   "execution_count": null,
   "metadata": {},
   "outputs": [],
   "source": [
    "# Retrieve coefficients using our linear regression fit function from Task 3\n",
    "# Retrieve the regression coefficients to reconstruct images from corrupted ones\n"
   ]
  },
  {
   "attachments": {},
   "cell_type": "markdown",
   "metadata": {},
   "source": [
    "#### 4. Prediction / Reconstruction for ONE image of your choice\n",
    "Prediction function is slightly different, since we cannot just directly predict ALL y-values! To predict a y-value, we need to have access to the window of size 5x11 right above the pixel we want to reconstruct. Intuitively, this can only be done for the first row of corrupted pixels, but not further (since the windows for the 2nd row would include corrupted pixels of the first row)! --> To solve this problem, we will reconstruct the image pixel-by-pixel using the reconstructed results of row1 to reconstruct row 2, and so on.\n"
   ]
  },
  {
   "cell_type": "code",
   "execution_count": null,
   "metadata": {},
   "outputs": [],
   "source": [
    "# Let's predict for one specific test image! \n",
    "img_idx_test = 8\n"
   ]
  },
  {
   "cell_type": "code",
   "execution_count": null,
   "metadata": {},
   "outputs": [],
   "source": [
    "# If you do not want to overwrite the original image, it is recommended you use the .copy() method from numpy arrays"
   ]
  },
  {
   "attachments": {},
   "cell_type": "markdown",
   "metadata": {},
   "source": [
    "#### 5. Visualisation of the results"
   ]
  },
  {
   "cell_type": "code",
   "execution_count": null,
   "metadata": {},
   "outputs": [],
   "source": [
    "# Visualise all approaches\n",
    "# You should display at 4 images:\n",
    "# The clean one (original image)\n",
    "# The randomly corrupted one (original image)\n",
    "# General reconstruction (from task 3)\n",
    "# Local reconstruction (from task 5)\n",
    "\n"
   ]
  },
  {
   "attachments": {},
   "cell_type": "markdown",
   "metadata": {},
   "source": [
    "<div class=\"alert alert-block alert-success\">\n",
    "    \n",
    "#### Compare the results you achieve with this local approach. What do you observe when you look at the reconstruction quality in the top half vs. the one in the lower half? Why is this the case?\n",
    "<br><br>\n",
    "\n",
    "    \n",
    "Write your answer here\n",
    "\n",
    "</div>\n"
   ]
  },
  {
   "attachments": {},
   "cell_type": "markdown",
   "metadata": {},
   "source": [
    "Show the PSNR values for tasks 3 and 5 for image[8]"
   ]
  },
  {
   "cell_type": "code",
   "execution_count": null,
   "metadata": {},
   "outputs": [],
   "source": []
  },
  {
   "attachments": {},
   "cell_type": "markdown",
   "metadata": {},
   "source": [
    "#### (Optional): Further image quality improvement via averaging"
   ]
  },
  {
   "cell_type": "code",
   "execution_count": null,
   "metadata": {},
   "outputs": [],
   "source": [
    "from scipy import ndimage\n",
    "\n",
    "# You can use the ndimage.uniform_filter to filter the results\n"
   ]
  },
  {
   "cell_type": "code",
   "execution_count": null,
   "metadata": {},
   "outputs": [],
   "source": [
    "# Visualise all approaches\n"
   ]
  },
  {
   "attachments": {},
   "cell_type": "markdown",
   "metadata": {},
   "source": [
    "<div class=\"alert alert-block alert-warning\">\n",
    "    \n",
    "# <center> That is all for this Lab! Congratulations!\n",
    "    \n",
    "</div>"
   ]
  },
  {
   "cell_type": "code",
   "execution_count": null,
   "metadata": {},
   "outputs": [],
   "source": []
  }
 ],
 "metadata": {
  "kernelspec": {
   "display_name": "Python 3",
   "language": "python",
   "name": "python3"
  },
  "language_info": {
   "codemirror_mode": {
    "name": "ipython",
    "version": 3
   },
   "file_extension": ".py",
   "mimetype": "text/x-python",
   "name": "python",
   "nbconvert_exporter": "python",
   "pygments_lexer": "ipython3",
   "version": "3.10.5"
  }
 },
 "nbformat": 4,
 "nbformat_minor": 4
}
