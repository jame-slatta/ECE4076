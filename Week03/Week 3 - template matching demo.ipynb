{
 "cells": [
  {
   "cell_type": "code",
   "execution_count": null,
   "metadata": {},
   "outputs": [],
   "source": [
    "import cv2\n",
    "import numpy as np\n",
    "from matplotlib import pyplot as plt"
   ]
  },
  {
   "cell_type": "markdown",
   "metadata": {},
   "source": [
    "## Template matching\n",
    "\n",
    "Here's a fun way to solve task 6 of a lab we used to run. This is a neat application of convolution."
   ]
  },
  {
   "cell_type": "code",
   "execution_count": null,
   "metadata": {},
   "outputs": [],
   "source": [
    "im = cv2.imread('../test_images/task6_helipad.png',0)"
   ]
  },
  {
   "cell_type": "code",
   "execution_count": null,
   "metadata": {},
   "outputs": [],
   "source": [
    "plt.imshow(im,cmap='gray')\n",
    "plt.show()"
   ]
  },
  {
   "cell_type": "code",
   "execution_count": null,
   "metadata": {},
   "outputs": [],
   "source": [
    "# Make a filter that looks like what the helipad we want to find\n",
    "template = np.zeros((5,5),dtype=np.uint8)\n",
    "template[0,:] = 255\n",
    "template[-1,:] = 255\n",
    "template[:,2] = 255\n",
    "\n",
    "plt.imshow(template)\n",
    "plt.show()"
   ]
  },
  {
   "cell_type": "code",
   "execution_count": null,
   "metadata": {},
   "outputs": [],
   "source": [
    "# Make an image pyramid - remember this simulates our image being viewed at multiple scales\n",
    "# We do this by repeatedly downsampling then bluring\n",
    "im_s = [im.copy()]\n",
    "for i in range(5):\n",
    "    im_s.append(cv2.GaussianBlur(cv2.pyrDown(im_s[i]),(5,5,),0))\n",
    "    plt.subplot(1,5,i+1)\n",
    "    plt.imshow(im_s[i])\n",
    "plt.show()"
   ]
  },
  {
   "cell_type": "code",
   "execution_count": null,
   "metadata": {},
   "outputs": [],
   "source": [
    "# Let's convolve each layer of our pyramid with the template\n",
    "im_s = [im.copy()]\n",
    "res=[]\n",
    "for i in range(5):\n",
    "    im_s.append(cv2.GaussianBlur(cv2.pyrDown(im_s[i]),(5,5,),0))\n",
    "    res.append(cv2.resize(cv2.filter2D(im_s[i],-1,template/np.sum(template)),im.shape))\n",
    "    plt.subplot(2,5,i+1)\n",
    "    plt.imshow(im_s[i])\n",
    "    plt.subplot(2,5,i+6)\n",
    "    plt.imshow(res[i])\n",
    "    plt.colorbar()\n",
    "plt.show()"
   ]
  },
  {
   "cell_type": "code",
   "execution_count": null,
   "metadata": {},
   "outputs": [],
   "source": [
    "# Let's average the location of the maximum response\n",
    "ave_x = 0 \n",
    "ave_y = 0\n",
    "for i in range(5):\n",
    "    cx,cy = np.where(res[i]==np.max(res[i]))\n",
    "    ave_x += cx[0]\n",
    "    ave_y += cy[0]\n",
    "    \n",
    "print(ave_x/5,ave_y/5)\n",
    "plt.figure(figsize=(15,5))\n",
    "plt.imshow(im,cmap='gray')\n",
    "plt.plot(ave_y/5,ave_x/5,'o')\n",
    "plt.show()\n",
    "    "
   ]
  },
  {
   "cell_type": "markdown",
   "metadata": {},
   "source": [
    "Oh look, we found our helipad."
   ]
  }
 ],
 "metadata": {
  "kernelspec": {
   "display_name": ".venv",
   "language": "python",
   "name": "python3"
  },
  "language_info": {
   "codemirror_mode": {
    "name": "ipython",
    "version": 3
   },
   "file_extension": ".py",
   "mimetype": "text/x-python",
   "name": "python",
   "nbconvert_exporter": "python",
   "pygments_lexer": "ipython3",
   "version": "3.12.3"
  }
 },
 "nbformat": 4,
 "nbformat_minor": 2
}
